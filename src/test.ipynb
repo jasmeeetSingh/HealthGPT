{
 "cells": [
  {
   "cell_type": "code",
   "execution_count": 2,
   "id": "76f023ed-0c4f-4795-af5c-db45a0d85d44",
   "metadata": {},
   "outputs": [
    {
     "name": "stdout",
     "output_type": "stream",
     "text": [
      "Hello World Rene test\n"
     ]
    }
   ],
   "source": [
    "print(\"Hello World Rene test\")"
   ]
  },
  {
   "cell_type": "code",
   "execution_count": null,
   "id": "6c3d830e-5a7a-413c-b5f4-b8473f7632ab",
   "metadata": {},
   "outputs": [],
   "source": []
  }
 ],
 "metadata": {
  "environment": {
   "kernel": "python3",
   "name": "tf2-gpu.2-8.m107",
   "type": "gcloud",
   "uri": "gcr.io/deeplearning-platform-release/tf2-gpu.2-8:m107"
  },
  "kernelspec": {
   "display_name": "Python 3 (ipykernel)",
   "language": "python",
   "name": "python3"
  },
  "language_info": {
   "codemirror_mode": {
    "name": "ipython",
    "version": 3
   },
   "file_extension": ".py",
   "mimetype": "text/x-python",
   "name": "python",
   "nbconvert_exporter": "python",
   "pygments_lexer": "ipython3",
   "version": "3.10.6"
  }
 },
 "nbformat": 4,
 "nbformat_minor": 5
}
