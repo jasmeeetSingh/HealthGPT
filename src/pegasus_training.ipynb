{
 "cells": [
  {
   "cell_type": "code",
   "execution_count": 1,
   "id": "288c469b-c465-488e-a620-302e88d6fd61",
   "metadata": {},
   "outputs": [],
   "source": [
    "from transformers import PegasusTokenizer, PegasusForConditionalGeneration, Seq2SeqTrainingArguments, Seq2SeqTrainer\n",
    "import evaluate\n",
    "import numpy as np\n",
    "import pandas as pd\n",
    "from datasets import Dataset, load_dataset\n",
    "from transformers import DataCollatorForSeq2Seq\n",
    "import evaluate"
   ]
  },
  {
   "cell_type": "code",
   "execution_count": 2,
   "id": "40a6cece-a99d-4cb5-b17e-cf386bcb95ae",
   "metadata": {},
   "outputs": [
    {
     "data": {
      "application/vnd.jupyter.widget-view+json": {
       "model_id": "b3ede12577de41a684f4b09fa84add5e",
       "version_major": 2,
       "version_minor": 0
      },
      "text/plain": [
       "VBox(children=(HTML(value='<center> <img\\nsrc=https://huggingface.co/front/assets/huggingface_logo-noborder.sv…"
      ]
     },
     "metadata": {},
     "output_type": "display_data"
    }
   ],
   "source": [
    "from huggingface_hub import notebook_login\n",
    "\n",
    "notebook_login()"
   ]
  },
  {
   "cell_type": "code",
   "execution_count": 3,
   "id": "68286492-ff5e-4196-86f8-a40e2e32d06a",
   "metadata": {},
   "outputs": [],
   "source": [
    "file_path = \"mtsamples_v1.csv\"\n",
    "df_sum = pd.read_csv(file_path)\n",
    "df_sum1 = df_sum[['transcription', 'summary']]"
   ]
  },
  {
   "cell_type": "code",
   "execution_count": 4,
   "id": "10d1015d-e941-40df-8c5a-e2ef3468792c",
   "metadata": {},
   "outputs": [],
   "source": [
    "df_dataset = Dataset.from_pandas(df_sum1)"
   ]
  },
  {
   "cell_type": "code",
   "execution_count": 5,
   "id": "a34e2281-5832-457e-9593-45691745f74b",
   "metadata": {},
   "outputs": [],
   "source": [
    "billsum = df_dataset.train_test_split(test_size=0.2)"
   ]
  },
  {
   "cell_type": "code",
   "execution_count": 6,
   "id": "863da459-fe76-4ba5-bd98-f97fb91f9bc2",
   "metadata": {},
   "outputs": [
    {
     "data": {
      "text/plain": [
       "{'transcription': 'HISTORY OF PRESENT ILLNESS:,  The patient is a 26-year-old gravida 2, para 1-0-0-1, at 28-1/7 weeks who presents to the emergency room with left lower quadrant pain, reports no bowel movement in two weeks as well as nausea and vomiting for the last 24 hours or so.  She states that she has not voided in the last 24 hours as well due to pain.  She denies any leaking of fluid, vaginal bleeding, or uterine contractions.  She reports good fetal movement.  She denies any fevers, chills, or burning with urination.,REVIEW OF SYSTEMS: , Positive for back pain in her lower back only.  Her mother reports that she has been eating food without difficulty and that the current nausea and vomiting is much less than when she is not pregnant.  She continues to yell out for requesting pain medication and about how much \"it hurts.\",PAST MEDICAL HISTORY:,1.  Irritable bowel syndrome.,2.  Urinary tract infections times three.  The patient is unsure if pyelo is present or not.,PAST SURGICAL HISTORY:,  Denies.,ALLERGIES: , No known drug allergies.,MEDICATIONS: , Phenergan and Zofran twice a day.  Macrobid questionable.,GYN: , History of an abnormal Pap, group B within normal limits.  Denies any sexually transmitted diseases.,OB HISTORY: , G1 is a term spontaneous vaginal delivery without complications, now a 6-year-old.  G2 is current.  Gets her care at Lyndhurst.,SOCIAL HISTORY: , Denies tobacco and alcohol use.  She endorses marijuana use and a history of cocaine use five years ago.  Upon review of the Baptist lab systems, the patient has had multiple positive urine drug screens and as recently as February 2008 had a urine drug screen that was positive for benzodiazepines, barbiturates, opiates, and marijuana and as recently as 2005 with cocaine present as well.,PHYSICAL EXAM:,VITAL SIGNS:  Blood pressure 139/82, pulse 89, respirations 20, 98% on room air, 96 degrees Fahrenheit.  Fetal heart tones are 130s with moderate long-term variability.  No paper is available for the fetal heart monitor due to the misorder and audibly sounds reassuring.,GENERAL:  Appears sedated, trashing intermittently, and then falling asleep in mid sentence.,CARDIOVASCULAR:  Regular rate and rhythm.,PULMONARY:  Clear to auscultation bilaterally.,BACK:  Tender to palpation in her lower back bilaterally, but no CVA tenderness.,ABDOMEN:  Tender to palpation in left lower quadrant.  No guarding or rebound.  Normal bowel sounds.,EXTREMITIES:  Scar track marks from bilateral arms.,PELVIC:  External vaginal exam is closed, long, high, and posterior.  Stool was felt in the rectum.,LABS: , White count is 11.1, hemoglobin is 13.5, platelets are 279.  CMP is within normal limits with an AST of 17, ALT of 11, and creatinine of 0.6.  Urinalysis which is supposedly a cath specimen shows a specific gravity of 1.024, greater than 88 ketones, many bacteria, but no white blood cells or nitrites.,ASSESSMENT AND PLAN:  ,The patient is a 26-year-old gravida 2, para 1-0-0-1 at 28-1 weeks with left lower quadrant pain and likely constipation.  I spoke with Dr. X who is the physician on-call tonight, and he requests that she be transferred for continued fetal monitoring and further evaluation of this abdominal pain to Labor and Delivery.  Plans are made for transfer at this time.  This was discussed with Dr. Y who is in agreement with the plan.',\n",
       " 'summary': 'A woman presents to the emergency room at 28-1/7 weeks pregnant with left lower quadrant pain, nausea and vomiting for the last 24 hours or so as well as no bowel movement in two weeks but denies any leaking of fluid, vaginal infections, or uterine contractions.'}"
      ]
     },
     "execution_count": 6,
     "metadata": {},
     "output_type": "execute_result"
    }
   ],
   "source": [
    "billsum['test'][0]"
   ]
  },
  {
   "cell_type": "code",
   "execution_count": 7,
   "id": "e3ab29e8-ef6b-4c2a-95da-45a24aead1ee",
   "metadata": {},
   "outputs": [],
   "source": [
    "tokenizer = PegasusTokenizer.from_pretrained(\"google/pegasus-xsum\")\n",
    "model = PegasusForConditionalGeneration.from_pretrained(\"google/pegasus-xsum\")"
   ]
  },
  {
   "cell_type": "code",
   "execution_count": 8,
   "id": "2741f0a1-e351-4b90-97bb-6409fe87db5e",
   "metadata": {},
   "outputs": [],
   "source": [
    "# def preprocess_function(examples):\n",
    "#     inputs = examples[\"transcription\"]\n",
    "#     model_inputs = tokenizer(inputs, truncation=True, padding=\"longest\")\n",
    "\n",
    "#     labels = examples[\"summary\"]\n",
    "#     model_inputs[\"labels\"] = tokenizer(labels, truncation=True, padding=\"longest\").input_ids\n",
    "#     return model_inputs\n",
    "\n",
    "def preprocess_function(examples):\n",
    "    inputs = [str(text) for text in examples[\"transcription\"]]\n",
    "    model_inputs = tokenizer(inputs, truncation=True, padding=\"longest\")\n",
    "\n",
    "    labels = [str(summary) for summary in examples[\"summary\"]]\n",
    "    model_inputs[\"labels\"] = tokenizer(labels, truncation=True, padding=\"longest\").input_ids\n",
    "    return model_inputs"
   ]
  },
  {
   "cell_type": "code",
   "execution_count": 9,
   "id": "70cc3c25-16e0-43c5-a688-99839c779687",
   "metadata": {},
   "outputs": [
    {
     "data": {
      "application/vnd.jupyter.widget-view+json": {
       "model_id": "",
       "version_major": 2,
       "version_minor": 0
      },
      "text/plain": [
       "Map:   0%|          | 0/3999 [00:00<?, ? examples/s]"
      ]
     },
     "metadata": {},
     "output_type": "display_data"
    },
    {
     "data": {
      "application/vnd.jupyter.widget-view+json": {
       "model_id": "",
       "version_major": 2,
       "version_minor": 0
      },
      "text/plain": [
       "Map:   0%|          | 0/1000 [00:00<?, ? examples/s]"
      ]
     },
     "metadata": {},
     "output_type": "display_data"
    }
   ],
   "source": [
    "tokenized_billsum = billsum.map(preprocess_function, batched=True)"
   ]
  },
  {
   "cell_type": "code",
   "execution_count": 10,
   "id": "be28d9e8-0dae-4804-97d5-84d63f93dc57",
   "metadata": {},
   "outputs": [],
   "source": [
    "data_collator = DataCollatorForSeq2Seq(tokenizer=tokenizer, model=model)"
   ]
  },
  {
   "cell_type": "code",
   "execution_count": 11,
   "id": "186caa39-2b43-42e9-9d33-c9b536c1ac17",
   "metadata": {},
   "outputs": [],
   "source": [
    "rouge = evaluate.load(\"rouge\")"
   ]
  },
  {
   "cell_type": "code",
   "execution_count": 12,
   "id": "20c37920-963f-46bb-87d2-1d9d8529d74e",
   "metadata": {},
   "outputs": [],
   "source": [
    "# def compute_metrics(eval_pred):\n",
    "#     predictions, labels = eval_pred\n",
    "#     decoded_preds = tokenizer.batch_decode(predictions, skip_special_tokens=True)\n",
    "#     decoded_labels = tokenizer.batch_decode(labels, skip_special_tokens=True)\n",
    "\n",
    "#     result = rouge.compute(predictions=decoded_preds, references=decoded_labels, use_stemmer=True)\n",
    "\n",
    "#     prediction_lens = [np.count_nonzero(pred != tokenizer.pad_token_id) for pred in predictions]\n",
    "#     result[\"gen_len\"] = np.mean(prediction_lens)\n",
    "\n",
    "#     return {k: round(v.mid.fmeasure * 100, 4) for k, v in result.items()}\n",
    "\n",
    "def compute_metrics(eval_pred):\n",
    "    predictions, labels = eval_pred\n",
    "    decoded_preds = tokenizer.batch_decode(predictions, skip_special_tokens=True)\n",
    "    labels = np.where(labels != -100, labels, tokenizer.pad_token_id)\n",
    "    decoded_labels = tokenizer.batch_decode(labels, skip_special_tokens=True)\n",
    "\n",
    "    result = rouge.compute(predictions=decoded_preds, references=decoded_labels, use_stemmer=True)\n",
    "\n",
    "    prediction_lens = [np.count_nonzero(pred != tokenizer.pad_token_id) for pred in predictions]\n",
    "    result[\"gen_len\"] = np.mean(prediction_lens)\n",
    "\n",
    "    return {k: round(v, 4) for k, v in result.items()}"
   ]
  },
  {
   "cell_type": "code",
   "execution_count": 13,
   "id": "9474eceb-fa45-40ac-9b8d-4e508cbe28bf",
   "metadata": {},
   "outputs": [],
   "source": [
    "training_args = Seq2SeqTrainingArguments(\n",
    "    output_dir=\"PegasusMedicalSummary\",\n",
    "    evaluation_strategy=\"epoch\",\n",
    "    learning_rate=2e-5,\n",
    "    per_device_train_batch_size=1,\n",
    "    per_device_eval_batch_size=1,\n",
    "    weight_decay=0.01,\n",
    "    save_total_limit=3,\n",
    "    num_train_epochs=4,\n",
    "    predict_with_generate=True,\n",
    "    fp16=True,\n",
    "    push_to_hub=True,\n",
    "    gradient_accumulation_steps=4,\n",
    ")"
   ]
  },
  {
   "cell_type": "code",
   "execution_count": 14,
   "id": "b34b2759-25a9-413c-9ba2-364c8a60c0c4",
   "metadata": {},
   "outputs": [
    {
     "name": "stderr",
     "output_type": "stream",
     "text": [
      "/home/jupyter/HealthGPT/PegasusMedicalSummary is already a clone of https://huggingface.co/renegarza/PegasusMedicalSummary. Make sure you pull the latest changes with `repo.git_pull()`.\n"
     ]
    }
   ],
   "source": [
    "trainer = Seq2SeqTrainer(\n",
    "    model=model,\n",
    "    args=training_args,\n",
    "    train_dataset=tokenized_billsum[\"train\"],\n",
    "    eval_dataset=tokenized_billsum[\"test\"],\n",
    "    tokenizer=tokenizer,\n",
    "    data_collator=data_collator,\n",
    "    compute_metrics=compute_metrics,\n",
    ")"
   ]
  },
  {
   "cell_type": "code",
   "execution_count": 15,
   "id": "388d1c0b-5d11-4f3a-927c-68d8a7f242c9",
   "metadata": {},
   "outputs": [
    {
     "name": "stderr",
     "output_type": "stream",
     "text": [
      "/opt/conda/envs/python11/lib/python3.11/site-packages/transformers/optimization.py:391: FutureWarning: This implementation of AdamW is deprecated and will be removed in a future version. Use the PyTorch implementation torch.optim.AdamW instead, or set `no_deprecation_warning=True` to disable this warning\n",
      "  warnings.warn(\n"
     ]
    },
    {
     "data": {
      "text/html": [
       "\n",
       "    <div>\n",
       "      \n",
       "      <progress value='3996' max='3996' style='width:300px; height:20px; vertical-align: middle;'></progress>\n",
       "      [3996/3996 3:04:18, Epoch 3/4]\n",
       "    </div>\n",
       "    <table border=\"1\" class=\"dataframe\">\n",
       "  <thead>\n",
       " <tr style=\"text-align: left;\">\n",
       "      <th>Epoch</th>\n",
       "      <th>Training Loss</th>\n",
       "      <th>Validation Loss</th>\n",
       "      <th>Rouge1</th>\n",
       "      <th>Rouge2</th>\n",
       "      <th>Rougel</th>\n",
       "      <th>Rougelsum</th>\n",
       "      <th>Gen Len</th>\n",
       "    </tr>\n",
       "  </thead>\n",
       "  <tbody>\n",
       "    <tr>\n",
       "      <td>0</td>\n",
       "      <td>6.517200</td>\n",
       "      <td>0.178380</td>\n",
       "      <td>0.416100</td>\n",
       "      <td>0.237300</td>\n",
       "      <td>0.338800</td>\n",
       "      <td>0.338400</td>\n",
       "      <td>52.102000</td>\n",
       "    </tr>\n",
       "    <tr>\n",
       "      <td>1</td>\n",
       "      <td>0.317400</td>\n",
       "      <td>0.155042</td>\n",
       "      <td>0.423600</td>\n",
       "      <td>0.243400</td>\n",
       "      <td>0.343000</td>\n",
       "      <td>0.342800</td>\n",
       "      <td>54.458000</td>\n",
       "    </tr>\n",
       "    <tr>\n",
       "      <td>2</td>\n",
       "      <td>0.263200</td>\n",
       "      <td>0.146186</td>\n",
       "      <td>0.426900</td>\n",
       "      <td>0.246700</td>\n",
       "      <td>0.346500</td>\n",
       "      <td>0.346400</td>\n",
       "      <td>55.503000</td>\n",
       "    </tr>\n",
       "    <tr>\n",
       "      <td>3</td>\n",
       "      <td>0.247700</td>\n",
       "      <td>0.143825</td>\n",
       "      <td>0.431800</td>\n",
       "      <td>0.252500</td>\n",
       "      <td>0.352400</td>\n",
       "      <td>0.352500</td>\n",
       "      <td>55.882000</td>\n",
       "    </tr>\n",
       "  </tbody>\n",
       "</table><p>"
      ],
      "text/plain": [
       "<IPython.core.display.HTML object>"
      ]
     },
     "metadata": {},
     "output_type": "display_data"
    },
    {
     "data": {
      "text/plain": [
       "TrainOutput(global_step=3996, training_loss=1.0827994303660349, metrics={'train_runtime': 11059.6924, 'train_samples_per_second': 1.446, 'train_steps_per_second': 0.361, 'total_flos': 2.3092599598350336e+16, 'train_loss': 1.0827994303660349, 'epoch': 4.0})"
      ]
     },
     "execution_count": 15,
     "metadata": {},
     "output_type": "execute_result"
    }
   ],
   "source": [
    "# Start training\n",
    "trainer.train()"
   ]
  },
  {
   "cell_type": "code",
   "execution_count": 16,
   "id": "38a4eed2-b02d-487b-b6e3-decad9ce4351",
   "metadata": {},
   "outputs": [
    {
     "data": {
      "application/vnd.jupyter.widget-view+json": {
       "model_id": "fa8bd52bc54546129e65c31d7c7fc7f9",
       "version_major": 2,
       "version_minor": 0
      },
      "text/plain": [
       "Upload file pytorch_model.bin:   0%|          | 1.00/2.12G [00:00<?, ?B/s]"
      ]
     },
     "metadata": {},
     "output_type": "display_data"
    },
    {
     "name": "stderr",
     "output_type": "stream",
     "text": [
      "To https://huggingface.co/renegarza/PegasusMedicalSummary\n",
      "   6937902..e5e94d4  main -> main\n",
      "\n",
      "WARNING:huggingface_hub.repository:To https://huggingface.co/renegarza/PegasusMedicalSummary\n",
      "   6937902..e5e94d4  main -> main\n",
      "\n",
      "To https://huggingface.co/renegarza/PegasusMedicalSummary\n",
      "   e5e94d4..893fd7b  main -> main\n",
      "\n",
      "WARNING:huggingface_hub.repository:To https://huggingface.co/renegarza/PegasusMedicalSummary\n",
      "   e5e94d4..893fd7b  main -> main\n",
      "\n"
     ]
    },
    {
     "data": {
      "text/plain": [
       "'https://huggingface.co/renegarza/PegasusMedicalSummary/commit/e5e94d49fcd8a8c63ee7b7302ee8256eb7e77b05'"
      ]
     },
     "execution_count": 16,
     "metadata": {},
     "output_type": "execute_result"
    }
   ],
   "source": [
    "# Push the trained model to the Hugging Face Model Hub\n",
    "trainer.push_to_hub()"
   ]
  },
  {
   "cell_type": "code",
   "execution_count": 17,
   "id": "74a92d2d-54b8-4646-b75e-8827ef3ddd6a",
   "metadata": {},
   "outputs": [],
   "source": [
    "# Save the fine-tuned model\n",
    "model.save_pretrained(\"PegasusMedicalSummary\")"
   ]
  },
  {
   "cell_type": "code",
   "execution_count": 24,
   "id": "9e5dbca8-d538-4ca3-9d46-a285d086270c",
   "metadata": {},
   "outputs": [],
   "source": [
    "from transformers import PegasusForConditionalGeneration, PegasusTokenizer, SummarizationPipeline\n",
    "\n",
    "model_name = \"renegarza/PegasusMedicalSummary\"\n",
    "tokenizer = PegasusTokenizer.from_pretrained(model_name)\n",
    "model = PegasusForConditionalGeneration.from_pretrained(model_name)\n",
    "\n",
    "summarizer = SummarizationPipeline(model=model, tokenizer=tokenizer)"
   ]
  },
  {
   "cell_type": "code",
   "execution_count": 28,
   "id": "57f7ec1f-fe83-4cc5-baea-8fb6288d6de0",
   "metadata": {},
   "outputs": [
    {
     "name": "stdout",
     "output_type": "stream",
     "text": [
      "[{'summary_text': 'This is a case report of a patient with left ventricular ejection fraction (LVEF) of 70% and left atrial pressure of 10 mmHg who was admitted to the intensive care unit for suspected heart failure.,2. The aortic valve appears calcified with mild aortic valve stenosis, calculated aortic valve area is 1.3 cm'}]\n"
     ]
    }
   ],
   "source": [
    "text = \"1.  The left ventricular cavity size and wall thickness appear normal.  The wall motion and left ventricular systolic function appears hyperdynamic with estimated ejection fraction of 70% to 75%.  There is near-cavity obliteration seen.  There also appears to be increased left ventricular outflow tract gradient at the mid cavity level consistent with hyperdynamic left ventricular systolic function.  There is abnormal left ventricular relaxation pattern seen as well as elevated left atrial pressures seen by Doppler examination.,2.  The left atrium appears mildly dilated.,3.  The right atrium and right ventricle appear normal.,4.  The aortic root appears normal.,5.  The aortic valve appears calcified with mild aortic valve stenosis, calculated aortic valve area is 1.3 cm square with a maximum instantaneous gradient of 34 and a mean gradient of 19 mm.,6.  There is mitral annular calcification extending to leaflets and supportive structures with thickening of mitral valve leaflets with mild mitral regurgitation.,7.  The tricuspid valve appears normal with trace tricuspid regurgitation with moderate pulmonary artery hypertension.  Estimated pulmonary artery systolic pressure is 49 mmHg.  Estimated right atrial pressure of 10 mmHg.,8.  The pulmonary valve appears normal with trace pulmonary insufficiency.,9.  There is no pericardial effusion or intracardiac mass seen.,10.  There is a color Doppler suggestive of a patent foramen ovale with lipomatous hypertrophy of the interatrial septum.,11.  The study was somewhat technically limited and hence subtle abnormalities could be missed from the study.,\"\n",
    "summary = summarizer(text)\n",
    "print(summary)"
   ]
  }
 ],
 "metadata": {
  "environment": {
   "kernel": "python11",
   "name": "pytorch-gpu.1-13.m107",
   "type": "gcloud",
   "uri": "gcr.io/deeplearning-platform-release/pytorch-gpu.1-13:m107"
  },
  "kernelspec": {
   "display_name": "python11",
   "language": "python",
   "name": "python11"
  },
  "language_info": {
   "codemirror_mode": {
    "name": "ipython",
    "version": 3
   },
   "file_extension": ".py",
   "mimetype": "text/x-python",
   "name": "python",
   "nbconvert_exporter": "python",
   "pygments_lexer": "ipython3",
   "version": "3.11.3"
  }
 },
 "nbformat": 4,
 "nbformat_minor": 5
}
