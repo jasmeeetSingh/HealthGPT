{
 "cells": [
  {
   "cell_type": "code",
   "execution_count": null,
   "id": "e6b545d9-92ba-418d-8723-2f1103126510",
   "metadata": {},
   "outputs": [],
   "source": [
    "import pandas as pd\n",
    "import torch\n",
    "from torch.utils.data import Dataset\n",
    "from transformers import PegasusForConditionalGeneration, PegasusTokenizer"
   ]
  },
  {
   "cell_type": "code",
   "execution_count": null,
   "id": "fb5b57c8-35f4-45c7-a650-19a5b424142a",
   "metadata": {},
   "outputs": [],
   "source": [
    "file_path = \"mtsamples_original.csv\"\n",
    "df_sum = pd.read_csv(file_path)"
   ]
  },
  {
   "cell_type": "code",
   "execution_count": null,
   "id": "b112e572-864a-4a25-9495-50ed3bd89d23",
   "metadata": {},
   "outputs": [],
   "source": [
    "pretrained_peg = PegasusForConditionalGeneration.from_pretrained(\"google/pegasus-xsum\")\n",
    "tokenizer = PegasusTokenizer.from_pretrained(\"google/pegasus-xsum\")"
   ]
  },
  {
   "cell_type": "code",
   "execution_count": null,
   "id": "52f286fe-37b7-40fe-aa04-0d71ccaef764",
   "metadata": {},
   "outputs": [],
   "source": [
    "# Generate summaries for each transcription and store them in a list\n",
    "summaries = []\n",
    "for text in df_sum[\"transcription\"]:\n",
    "    input_text = f\"Please provide only the key medical notes of this transcription: {text}\"\n",
    "    input_ids = tokenizer.encode(input_text, return_tensors=\"pt\", padding='max_length', truncation=True, max_length=300)\n",
    "    summary_ids = pretrained_peg.generate(input_ids , max_length=300, min_length=50, num_beams=2, repetition_penalty=2.5, length_penalty=5.0, early_stopping=True)\n",
    "    summary = tokenizer.decode(summary_ids[0], skip_special_tokens=True, clean_up_tokenization_spaces=True)\n",
    "    summaries.append(summary)"
   ]
  },
  {
   "cell_type": "code",
   "execution_count": null,
   "id": "18bd798f-0948-4c74-9c11-8765d570e566",
   "metadata": {},
   "outputs": [],
   "source": [
    "# Add the summaries to the DataFrame as a new column\n",
    "df_sum[\"summary\"] = summaries"
   ]
  },
  {
   "cell_type": "code",
   "execution_count": null,
   "id": "0dfe44b1-5787-4df0-af2d-105dd84305f1",
   "metadata": {},
   "outputs": [],
   "source": [
    "df_sum.to_csv(\"mtsamples_v1.csv\", index=False)"
   ]
  }
 ],
 "metadata": {
  "environment": {
   "kernel": "python11",
   "name": "pytorch-gpu.1-13.m107",
   "type": "gcloud",
   "uri": "gcr.io/deeplearning-platform-release/pytorch-gpu.1-13:m107"
  },
  "kernelspec": {
   "display_name": "python11",
   "language": "python",
   "name": "python11"
  },
  "language_info": {
   "codemirror_mode": {
    "name": "ipython",
    "version": 3
   },
   "file_extension": ".py",
   "mimetype": "text/x-python",
   "name": "python",
   "nbconvert_exporter": "python",
   "pygments_lexer": "ipython3",
   "version": "3.11.3"
  }
 },
 "nbformat": 4,
 "nbformat_minor": 5
}
