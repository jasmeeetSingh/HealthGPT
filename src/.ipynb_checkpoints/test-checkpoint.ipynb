{
 "cells": [
  {
   "cell_type": "code",
   "execution_count": 1,
   "id": "76f023ed-0c4f-4795-af5c-db45a0d85d44",
   "metadata": {},
   "outputs": [
    {
     "name": "stdout",
     "output_type": "stream",
     "text": [
      "Hello World Jasmeet test\n"
     ]
    }
   ],
   "source": [
    "print(\"Hello World Jasmeet test\")"
   ]
  },
  {
   "cell_type": "code",
   "execution_count": null,
   "id": "6c3d830e-5a7a-413c-b5f4-b8473f7632ab",
   "metadata": {},
   "outputs": [],
   "source": []
  }
 ],
 "metadata": {
  "environment": {
   "kernel": "python3",
   "name": "pytorch-gpu.1-13.m107",
   "type": "gcloud",
   "uri": "gcr.io/deeplearning-platform-release/pytorch-gpu.1-13:m107"
  },
  "kernelspec": {
   "display_name": "Python 3",
   "language": "python",
   "name": "python3"
  },
  "language_info": {
   "codemirror_mode": {
    "name": "ipython",
    "version": 3
   },
   "file_extension": ".py",
   "mimetype": "text/x-python",
   "name": "python",
   "nbconvert_exporter": "python",
   "pygments_lexer": "ipython3",
   "version": "3.7.12"
  }
 },
 "nbformat": 4,
 "nbformat_minor": 5
}
