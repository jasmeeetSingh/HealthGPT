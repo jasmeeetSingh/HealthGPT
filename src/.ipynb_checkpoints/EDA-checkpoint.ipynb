{
 "cells": [
  {
   "cell_type": "code",
   "execution_count": 1,
   "id": "640dda0f-a4da-4c57-a9bd-3e9b73caf801",
   "metadata": {},
   "outputs": [],
   "source": [
    "import pandas as pd\n",
    "pd.set_option('display.max_colwidth', 500)"
   ]
  },
  {
   "cell_type": "code",
   "execution_count": 2,
   "id": "ce24d13c-4912-422f-b6ec-ad4be66d30f8",
   "metadata": {},
   "outputs": [],
   "source": [
    "df = pd.read_csv('gs://data-healthcare/medical_samples.csv', index_col=[0])\n",
    "df1 = pd.read_csv('gs://data-healthcare/train.csv')\n",
    "df2 = pd.read_csv('gs://data-healthcare/train.csv')"
   ]
  },
  {
   "cell_type": "code",
   "execution_count": 3,
   "id": "a6de55ef-dfb7-4ac8-9d5b-4c7aff9bb442",
   "metadata": {},
   "outputs": [
    {
     "data": {
      "text/plain": [
       "('SUBJECTIVE:,  This 23-year-old white female presents with complaint of allergies.  She used to have allergies when she lived in Seattle but she thinks they are worse here.  In the past, she has tried Claritin, and Zyrtec.  Both worked for short time but then seemed to lose effectiveness.  She has used Allegra also.  She used that last summer and she began using it again two weeks ago.  It does not appear to be working very well.  She has used over-the-counter sprays but no prescription nasal sprays.  She does have asthma but doest not require daily medication for this and does not think it is flaring up.,MEDICATIONS: , Her only medication currently is Ortho Tri-Cyclen and the Allegra.,ALLERGIES: , She has no known medicine allergies.,OBJECTIVE:,Vitals:  Weight was 130 pounds and blood pressure 124/78.,HEENT:  Her throat was mildly erythematous without exudate.  Nasal mucosa was erythematous and swollen.  Only clear drainage was seen.  TMs were clear.,Neck:  Supple without adenopathy.,Lungs:  Clear.,ASSESSMENT:,  Allergic rhinitis.,PLAN:,1.  She will try Zyrtec instead of Allegra again.  Another option will be to use loratadine.  She does not think she has prescription coverage so that might be cheaper.,2.  Samples of Nasonex two sprays in each nostril given for three weeks.  A prescription was written as well.',\n",
       " 'allergy / immunology, allergic rhinitis, allergies, asthma, nasal sprays, rhinitis, nasal, erythematous, allegra, sprays, allergic,')"
      ]
     },
     "execution_count": 3,
     "metadata": {},
     "output_type": "execute_result"
    }
   ],
   "source": [
    "df.transcription[0], df.keywords[0]"
   ]
  },
  {
   "cell_type": "code",
   "execution_count": 4,
   "id": "450254fc-bc63-4571-89e2-9f60d7b77ce2",
   "metadata": {},
   "outputs": [
    {
     "data": {
      "text/html": [
       "<div>\n",
       "<style scoped>\n",
       "    .dataframe tbody tr th:only-of-type {\n",
       "        vertical-align: middle;\n",
       "    }\n",
       "\n",
       "    .dataframe tbody tr th {\n",
       "        vertical-align: top;\n",
       "    }\n",
       "\n",
       "    .dataframe thead th {\n",
       "        text-align: right;\n",
       "    }\n",
       "</style>\n",
       "<table border=\"1\" class=\"dataframe\">\n",
       "  <thead>\n",
       "    <tr style=\"text-align: right;\">\n",
       "      <th></th>\n",
       "      <th>categories</th>\n",
       "      <th>converse</th>\n",
       "    </tr>\n",
       "  </thead>\n",
       "  <tbody>\n",
       "    <tr>\n",
       "      <th>0</th>\n",
       "      <td>QUERIES FROM PHARMACY</td>\n",
       "      <td>please to verify instructions for drugname patients wi from pharmacy target reason for call details please to verify instructions for drugname patients will be picking up Rx timephrase clarified Rx with pharmacy lisa gilligan rn</td>\n",
       "    </tr>\n",
       "    <tr>\n",
       "      <th>1</th>\n",
       "      <td>NEW APPOINTMENT</td>\n",
       "      <td>lmovm for patients mother to and schd rov tracy dominguez am kellee currie pm rhonda fanning</td>\n",
       "    </tr>\n",
       "    <tr>\n",
       "      <th>2</th>\n",
       "      <td>OTHERS</td>\n",
       "      <td>labtype and insurance approval other incoming name lpn clinical review for cigna reason for call details to inform that there is not enough information provided but patients can be approved for an at home labtype whitney will fax this will need to be filled out and sent if there are any questions please whintey at rna follow routed to wendy upchurch lisa mohamed rn auth obtained and routed to sleep schedulers tammy byrd fyi wendy upchurch clinical list changes</td>\n",
       "    </tr>\n",
       "    <tr>\n",
       "      <th>3</th>\n",
       "      <td>OTHERS</td>\n",
       "      <td>clinical list changes medfusion secure electronic message subject genetic testing hello jennifer i just wanted to update you on where we stand as far as genetic testing is concerned we are working on building a standard order for the testing the testing will be administered at which is on the ground floor in the building next door to where you were seen today i will contact you once this order has been sent and you will be able to obtain a cost estimate from i look forward to speaking with y...</td>\n",
       "    </tr>\n",
       "    <tr>\n",
       "      <th>4</th>\n",
       "      <td>MEDICATION RELATED</td>\n",
       "      <td>wants to wean off medication work phone name dad other patients dad request to sw rn to discuss patients care now that timephrase pm lmtcb regarding dad question timephrase pm lmtcb x patient dad was asking if patients could be weaned off medicine since last seizure was months ago patients is currently taken lamictal mg tab in am tabs in pm he was hoping to try weaning the patients since she was out of school for the summer provider notified timephrase pm i would suggest we arrange for a sle...</td>\n",
       "    </tr>\n",
       "  </tbody>\n",
       "</table>\n",
       "</div>"
      ],
      "text/plain": [
       "              categories  \\\n",
       "0  QUERIES FROM PHARMACY   \n",
       "1        NEW APPOINTMENT   \n",
       "2                 OTHERS   \n",
       "3                 OTHERS   \n",
       "4     MEDICATION RELATED   \n",
       "\n",
       "                                                                                                                                                                                                                                                                                                                                                                                                                                                                                                              converse  \n",
       "0                                                                                                                                                                                                                                                                                 please to verify instructions for drugname patients wi from pharmacy target reason for call details please to verify instructions for drugname patients will be picking up Rx timephrase clarified Rx with pharmacy lisa gilligan rn  \n",
       "1                                                                                                                                                                                                                                                                                                                                                                                                                         lmovm for patients mother to and schd rov tracy dominguez am kellee currie pm rhonda fanning  \n",
       "2                                     labtype and insurance approval other incoming name lpn clinical review for cigna reason for call details to inform that there is not enough information provided but patients can be approved for an at home labtype whitney will fax this will need to be filled out and sent if there are any questions please whintey at rna follow routed to wendy upchurch lisa mohamed rn auth obtained and routed to sleep schedulers tammy byrd fyi wendy upchurch clinical list changes  \n",
       "3  clinical list changes medfusion secure electronic message subject genetic testing hello jennifer i just wanted to update you on where we stand as far as genetic testing is concerned we are working on building a standard order for the testing the testing will be administered at which is on the ground floor in the building next door to where you were seen today i will contact you once this order has been sent and you will be able to obtain a cost estimate from i look forward to speaking with y...  \n",
       "4  wants to wean off medication work phone name dad other patients dad request to sw rn to discuss patients care now that timephrase pm lmtcb regarding dad question timephrase pm lmtcb x patient dad was asking if patients could be weaned off medicine since last seizure was months ago patients is currently taken lamictal mg tab in am tabs in pm he was hoping to try weaning the patients since she was out of school for the summer provider notified timephrase pm i would suggest we arrange for a sle...  "
      ]
     },
     "execution_count": 4,
     "metadata": {},
     "output_type": "execute_result"
    }
   ],
   "source": [
    "df1.head()"
   ]
  },
  {
   "cell_type": "code",
   "execution_count": 5,
   "id": "8511fc34-2069-4418-93b2-24272dab7a6e",
   "metadata": {},
   "outputs": [
    {
     "data": {
      "text/html": [
       "<div>\n",
       "<style scoped>\n",
       "    .dataframe tbody tr th:only-of-type {\n",
       "        vertical-align: middle;\n",
       "    }\n",
       "\n",
       "    .dataframe tbody tr th {\n",
       "        vertical-align: top;\n",
       "    }\n",
       "\n",
       "    .dataframe thead th {\n",
       "        text-align: right;\n",
       "    }\n",
       "</style>\n",
       "<table border=\"1\" class=\"dataframe\">\n",
       "  <thead>\n",
       "    <tr style=\"text-align: right;\">\n",
       "      <th></th>\n",
       "      <th>categories</th>\n",
       "      <th>converse</th>\n",
       "    </tr>\n",
       "  </thead>\n",
       "  <tbody>\n",
       "    <tr>\n",
       "      <th>0</th>\n",
       "      <td>QUERIES FROM PHARMACY</td>\n",
       "      <td>please to verify instructions for drugname patients wi from pharmacy target reason for call details please to verify instructions for drugname patients will be picking up Rx timephrase clarified Rx with pharmacy lisa gilligan rn</td>\n",
       "    </tr>\n",
       "    <tr>\n",
       "      <th>1</th>\n",
       "      <td>NEW APPOINTMENT</td>\n",
       "      <td>lmovm for patients mother to and schd rov tracy dominguez am kellee currie pm rhonda fanning</td>\n",
       "    </tr>\n",
       "    <tr>\n",
       "      <th>2</th>\n",
       "      <td>OTHERS</td>\n",
       "      <td>labtype and insurance approval other incoming name lpn clinical review for cigna reason for call details to inform that there is not enough information provided but patients can be approved for an at home labtype whitney will fax this will need to be filled out and sent if there are any questions please whintey at rna follow routed to wendy upchurch lisa mohamed rn auth obtained and routed to sleep schedulers tammy byrd fyi wendy upchurch clinical list changes</td>\n",
       "    </tr>\n",
       "    <tr>\n",
       "      <th>3</th>\n",
       "      <td>OTHERS</td>\n",
       "      <td>clinical list changes medfusion secure electronic message subject genetic testing hello jennifer i just wanted to update you on where we stand as far as genetic testing is concerned we are working on building a standard order for the testing the testing will be administered at which is on the ground floor in the building next door to where you were seen today i will contact you once this order has been sent and you will be able to obtain a cost estimate from i look forward to speaking with y...</td>\n",
       "    </tr>\n",
       "    <tr>\n",
       "      <th>4</th>\n",
       "      <td>MEDICATION RELATED</td>\n",
       "      <td>wants to wean off medication work phone name dad other patients dad request to sw rn to discuss patients care now that timephrase pm lmtcb regarding dad question timephrase pm lmtcb x patient dad was asking if patients could be weaned off medicine since last seizure was months ago patients is currently taken lamictal mg tab in am tabs in pm he was hoping to try weaning the patients since she was out of school for the summer provider notified timephrase pm i would suggest we arrange for a sle...</td>\n",
       "    </tr>\n",
       "  </tbody>\n",
       "</table>\n",
       "</div>"
      ],
      "text/plain": [
       "              categories  \\\n",
       "0  QUERIES FROM PHARMACY   \n",
       "1        NEW APPOINTMENT   \n",
       "2                 OTHERS   \n",
       "3                 OTHERS   \n",
       "4     MEDICATION RELATED   \n",
       "\n",
       "                                                                                                                                                                                                                                                                                                                                                                                                                                                                                                              converse  \n",
       "0                                                                                                                                                                                                                                                                                 please to verify instructions for drugname patients wi from pharmacy target reason for call details please to verify instructions for drugname patients will be picking up Rx timephrase clarified Rx with pharmacy lisa gilligan rn  \n",
       "1                                                                                                                                                                                                                                                                                                                                                                                                                         lmovm for patients mother to and schd rov tracy dominguez am kellee currie pm rhonda fanning  \n",
       "2                                     labtype and insurance approval other incoming name lpn clinical review for cigna reason for call details to inform that there is not enough information provided but patients can be approved for an at home labtype whitney will fax this will need to be filled out and sent if there are any questions please whintey at rna follow routed to wendy upchurch lisa mohamed rn auth obtained and routed to sleep schedulers tammy byrd fyi wendy upchurch clinical list changes  \n",
       "3  clinical list changes medfusion secure electronic message subject genetic testing hello jennifer i just wanted to update you on where we stand as far as genetic testing is concerned we are working on building a standard order for the testing the testing will be administered at which is on the ground floor in the building next door to where you were seen today i will contact you once this order has been sent and you will be able to obtain a cost estimate from i look forward to speaking with y...  \n",
       "4  wants to wean off medication work phone name dad other patients dad request to sw rn to discuss patients care now that timephrase pm lmtcb regarding dad question timephrase pm lmtcb x patient dad was asking if patients could be weaned off medicine since last seizure was months ago patients is currently taken lamictal mg tab in am tabs in pm he was hoping to try weaning the patients since she was out of school for the summer provider notified timephrase pm i would suggest we arrange for a sle...  "
      ]
     },
     "execution_count": 5,
     "metadata": {},
     "output_type": "execute_result"
    }
   ],
   "source": [
    "df2.head()"
   ]
  },
  {
   "cell_type": "code",
   "execution_count": 6,
   "id": "b877a5db-a4f4-437b-8c37-2ba27fe7e734",
   "metadata": {},
   "outputs": [
    {
     "data": {
      "text/html": [
       "<div>\n",
       "<style scoped>\n",
       "    .dataframe tbody tr th:only-of-type {\n",
       "        vertical-align: middle;\n",
       "    }\n",
       "\n",
       "    .dataframe tbody tr th {\n",
       "        vertical-align: top;\n",
       "    }\n",
       "\n",
       "    .dataframe thead th {\n",
       "        text-align: right;\n",
       "    }\n",
       "</style>\n",
       "<table border=\"1\" class=\"dataframe\">\n",
       "  <thead>\n",
       "    <tr style=\"text-align: right;\">\n",
       "      <th></th>\n",
       "      <th>Pseudo_Patient_Name</th>\n",
       "      <th>description</th>\n",
       "      <th>medical_specialty</th>\n",
       "      <th>sample_name</th>\n",
       "      <th>transcription</th>\n",
       "      <th>keywords</th>\n",
       "    </tr>\n",
       "  </thead>\n",
       "  <tbody>\n",
       "    <tr>\n",
       "      <th>0</th>\n",
       "      <td>James</td>\n",
       "      <td>A 23-year-old white female presents with complaint of allergies.</td>\n",
       "      <td>Allergy / Immunology</td>\n",
       "      <td>Allergic Rhinitis</td>\n",
       "      <td>SUBJECTIVE:,  This 23-year-old white female presents with complaint of allergies.  She used to have allergies when she lived in Seattle but she thinks they are worse here.  In the past, she has tried Claritin, and Zyrtec.  Both worked for short time but then seemed to lose effectiveness.  She has used Allegra also.  She used that last summer and she began using it again two weeks ago.  It does not appear to be working very well.  She has used over-the-counter sprays but no prescription nasal...</td>\n",
       "      <td>allergy / immunology, allergic rhinitis, allergies, asthma, nasal sprays, rhinitis, nasal, erythematous, allegra, sprays, allergic,</td>\n",
       "    </tr>\n",
       "    <tr>\n",
       "      <th>1</th>\n",
       "      <td>Chester</td>\n",
       "      <td>Consult for laparoscopic gastric bypass.</td>\n",
       "      <td>Bariatrics</td>\n",
       "      <td>Laparoscopic Gastric Bypass Consult - 2</td>\n",
       "      <td>PAST MEDICAL HISTORY:, He has difficulty climbing stairs, difficulty with airline seats, tying shoes, used to public seating, and lifting objects off the floor.  He exercises three times a week at home and does cardio.  He has difficulty walking two blocks or five flights of stairs.  Difficulty with snoring.  He has muscle and joint pains including knee pain, back pain, foot and ankle pain, and swelling.  He has gastroesophageal reflux disease.,PAST SURGICAL HISTORY:, Includes reconstructive...</td>\n",
       "      <td>bariatrics, laparoscopic gastric bypass, weight loss programs, gastric bypass, atkin's diet, weight watcher's, body weight, laparoscopic gastric, weight loss, pounds, months, weight, laparoscopic, band, loss, diets, overweight, lost</td>\n",
       "    </tr>\n",
       "    <tr>\n",
       "      <th>2</th>\n",
       "      <td>Shannon</td>\n",
       "      <td>Consult for laparoscopic gastric bypass.</td>\n",
       "      <td>Bariatrics</td>\n",
       "      <td>Laparoscopic Gastric Bypass Consult - 1</td>\n",
       "      <td>HISTORY OF PRESENT ILLNESS: , I have seen ABC today.  He is a very pleasant gentleman who is 42 years old, 344 pounds.  He is 5'9\".  He has a BMI of 51.  He has been overweight for ten years since the age of 33, at his highest he was 358 pounds, at his lowest 260.  He is pursuing surgical attempts of weight loss to feel good, get healthy, and begin to exercise again.  He wants to be able to exercise and play volleyball.  Physically, he is sluggish.  He gets tired quickly.  He does not go out...</td>\n",
       "      <td>bariatrics, laparoscopic gastric bypass, heart attacks, body weight, pulmonary embolism, potential complications, sleep study, weight loss, gastric bypass, anastomosis, loss, sleep, laparoscopic, gastric, bypass, heart, pounds, weight,</td>\n",
       "    </tr>\n",
       "    <tr>\n",
       "      <th>3</th>\n",
       "      <td>Domingo</td>\n",
       "      <td>2-D M-Mode. Doppler.</td>\n",
       "      <td>Cardiovascular / Pulmonary</td>\n",
       "      <td>2-D Echocardiogram - 1</td>\n",
       "      <td>2-D M-MODE: , ,1.  Left atrial enlargement with left atrial diameter of 4.7 cm.,2.  Normal size right and left ventricle.,3.  Normal LV systolic function with left ventricular ejection fraction of 51%.,4.  Normal LV diastolic function.,5.  No pericardial effusion.,6.  Normal morphology of aortic valve, mitral valve, tricuspid valve, and pulmonary valve.,7.  PA systolic pressure is 36 mmHg.,DOPPLER: , ,1.  Mild mitral and tricuspid regurgitation.,2.  Trace aortic and pulmonary regurgitation.</td>\n",
       "      <td>cardiovascular / pulmonary, 2-d m-mode, doppler, aortic valve, atrial enlargement, diastolic function, ejection fraction, mitral, mitral valve, pericardial effusion, pulmonary valve, regurgitation, systolic function, tricuspid, tricuspid valve, normal lv</td>\n",
       "    </tr>\n",
       "    <tr>\n",
       "      <th>4</th>\n",
       "      <td>Eugene</td>\n",
       "      <td>2-D Echocardiogram</td>\n",
       "      <td>Cardiovascular / Pulmonary</td>\n",
       "      <td>2-D Echocardiogram - 2</td>\n",
       "      <td>1.  The left ventricular cavity size and wall thickness appear normal.  The wall motion and left ventricular systolic function appears hyperdynamic with estimated ejection fraction of 70% to 75%.  There is near-cavity obliteration seen.  There also appears to be increased left ventricular outflow tract gradient at the mid cavity level consistent with hyperdynamic left ventricular systolic function.  There is abnormal left ventricular relaxation pattern seen as well as elevated left atrial pr...</td>\n",
       "      <td>cardiovascular / pulmonary, 2-d, doppler, echocardiogram, annular, aortic root, aortic valve, atrial, atrium, calcification, cavity, ejection fraction, mitral, obliteration, outflow, regurgitation, relaxation pattern, stenosis, systolic function, tricuspid, valve, ventricular, ventricular cavity, wall motion, pulmonary artery</td>\n",
       "    </tr>\n",
       "  </tbody>\n",
       "</table>\n",
       "</div>"
      ],
      "text/plain": [
       "  Pseudo_Patient_Name  \\\n",
       "0               James   \n",
       "1             Chester   \n",
       "2             Shannon   \n",
       "3             Domingo   \n",
       "4              Eugene   \n",
       "\n",
       "                                                         description  \\\n",
       "0   A 23-year-old white female presents with complaint of allergies.   \n",
       "1                           Consult for laparoscopic gastric bypass.   \n",
       "2                           Consult for laparoscopic gastric bypass.   \n",
       "3                                             2-D M-Mode. Doppler.     \n",
       "4                                                 2-D Echocardiogram   \n",
       "\n",
       "             medical_specialty                                sample_name  \\\n",
       "0         Allergy / Immunology                         Allergic Rhinitis    \n",
       "1                   Bariatrics   Laparoscopic Gastric Bypass Consult - 2    \n",
       "2                   Bariatrics   Laparoscopic Gastric Bypass Consult - 1    \n",
       "3   Cardiovascular / Pulmonary                    2-D Echocardiogram - 1    \n",
       "4   Cardiovascular / Pulmonary                    2-D Echocardiogram - 2    \n",
       "\n",
       "                                                                                                                                                                                                                                                                                                                                                                                                                                                                                                         transcription  \\\n",
       "0  SUBJECTIVE:,  This 23-year-old white female presents with complaint of allergies.  She used to have allergies when she lived in Seattle but she thinks they are worse here.  In the past, she has tried Claritin, and Zyrtec.  Both worked for short time but then seemed to lose effectiveness.  She has used Allegra also.  She used that last summer and she began using it again two weeks ago.  It does not appear to be working very well.  She has used over-the-counter sprays but no prescription nasal...   \n",
       "1  PAST MEDICAL HISTORY:, He has difficulty climbing stairs, difficulty with airline seats, tying shoes, used to public seating, and lifting objects off the floor.  He exercises three times a week at home and does cardio.  He has difficulty walking two blocks or five flights of stairs.  Difficulty with snoring.  He has muscle and joint pains including knee pain, back pain, foot and ankle pain, and swelling.  He has gastroesophageal reflux disease.,PAST SURGICAL HISTORY:, Includes reconstructive...   \n",
       "2  HISTORY OF PRESENT ILLNESS: , I have seen ABC today.  He is a very pleasant gentleman who is 42 years old, 344 pounds.  He is 5'9\".  He has a BMI of 51.  He has been overweight for ten years since the age of 33, at his highest he was 358 pounds, at his lowest 260.  He is pursuing surgical attempts of weight loss to feel good, get healthy, and begin to exercise again.  He wants to be able to exercise and play volleyball.  Physically, he is sluggish.  He gets tired quickly.  He does not go out...   \n",
       "3      2-D M-MODE: , ,1.  Left atrial enlargement with left atrial diameter of 4.7 cm.,2.  Normal size right and left ventricle.,3.  Normal LV systolic function with left ventricular ejection fraction of 51%.,4.  Normal LV diastolic function.,5.  No pericardial effusion.,6.  Normal morphology of aortic valve, mitral valve, tricuspid valve, and pulmonary valve.,7.  PA systolic pressure is 36 mmHg.,DOPPLER: , ,1.  Mild mitral and tricuspid regurgitation.,2.  Trace aortic and pulmonary regurgitation.   \n",
       "4  1.  The left ventricular cavity size and wall thickness appear normal.  The wall motion and left ventricular systolic function appears hyperdynamic with estimated ejection fraction of 70% to 75%.  There is near-cavity obliteration seen.  There also appears to be increased left ventricular outflow tract gradient at the mid cavity level consistent with hyperdynamic left ventricular systolic function.  There is abnormal left ventricular relaxation pattern seen as well as elevated left atrial pr...   \n",
       "\n",
       "                                                                                                                                                                                                                                                                                                                                  keywords  \n",
       "0                                                                                                                                                                                                      allergy / immunology, allergic rhinitis, allergies, asthma, nasal sprays, rhinitis, nasal, erythematous, allegra, sprays, allergic,  \n",
       "1                                                                                                 bariatrics, laparoscopic gastric bypass, weight loss programs, gastric bypass, atkin's diet, weight watcher's, body weight, laparoscopic gastric, weight loss, pounds, months, weight, laparoscopic, band, loss, diets, overweight, lost  \n",
       "2                                                                                              bariatrics, laparoscopic gastric bypass, heart attacks, body weight, pulmonary embolism, potential complications, sleep study, weight loss, gastric bypass, anastomosis, loss, sleep, laparoscopic, gastric, bypass, heart, pounds, weight,  \n",
       "3                                                                          cardiovascular / pulmonary, 2-d m-mode, doppler, aortic valve, atrial enlargement, diastolic function, ejection fraction, mitral, mitral valve, pericardial effusion, pulmonary valve, regurgitation, systolic function, tricuspid, tricuspid valve, normal lv   \n",
       "4  cardiovascular / pulmonary, 2-d, doppler, echocardiogram, annular, aortic root, aortic valve, atrial, atrium, calcification, cavity, ejection fraction, mitral, obliteration, outflow, regurgitation, relaxation pattern, stenosis, systolic function, tricuspid, valve, ventricular, ventricular cavity, wall motion, pulmonary artery  "
      ]
     },
     "execution_count": 6,
     "metadata": {},
     "output_type": "execute_result"
    }
   ],
   "source": [
    "# df.Pseudo_Patient_Name.value_counts()\n",
    "df.head()"
   ]
  },
  {
   "cell_type": "code",
   "execution_count": 7,
   "id": "906e7b1d-8214-4430-b678-0c0134769b81",
   "metadata": {},
   "outputs": [
    {
     "data": {
      "text/plain": [
       "0                                                                                                                                                                                                           allergy / immunology, allergic rhinitis, allergies, asthma, nasal sprays, rhinitis, nasal, erythematous, allegra, sprays, allergic,\n",
       "1                                                                                                      bariatrics, laparoscopic gastric bypass, weight loss programs, gastric bypass, atkin's diet, weight watcher's, body weight, laparoscopic gastric, weight loss, pounds, months, weight, laparoscopic, band, loss, diets, overweight, lost\n",
       "2                                                                                                   bariatrics, laparoscopic gastric bypass, heart attacks, body weight, pulmonary embolism, potential complications, sleep study, weight loss, gastric bypass, anastomosis, loss, sleep, laparoscopic, gastric, bypass, heart, pounds, weight,\n",
       "3                                                                               cardiovascular / pulmonary, 2-d m-mode, doppler, aortic valve, atrial enlargement, diastolic function, ejection fraction, mitral, mitral valve, pericardial effusion, pulmonary valve, regurgitation, systolic function, tricuspid, tricuspid valve, normal lv \n",
       "4       cardiovascular / pulmonary, 2-d, doppler, echocardiogram, annular, aortic root, aortic valve, atrial, atrium, calcification, cavity, ejection fraction, mitral, obliteration, outflow, regurgitation, relaxation pattern, stenosis, systolic function, tricuspid, valve, ventricular, ventricular cavity, wall motion, pulmonary artery\n",
       "                                                                                                                                                                         ...                                                                                                                                                                   \n",
       "4994                                                                                                                                                                                                                                                                                                                                        NaN\n",
       "4995                                                                                                                                                                                                                                  allergy / immunology, mucous membranes, conjunctivitis, ad lib, kawasaki disease, vaccine, fever, aspirin\n",
       "4996                                                                                                                                                                                                                                                                                                                                        NaN\n",
       "4997                                                                                                                                                                                                                                                                                                                                        NaN\n",
       "4998                                                                                                                                                                                                                                                                                                                                        NaN\n",
       "Name: keywords, Length: 4999, dtype: object"
      ]
     },
     "execution_count": 7,
     "metadata": {},
     "output_type": "execute_result"
    }
   ],
   "source": [
    "df.keywords"
   ]
  },
  {
   "cell_type": "code",
   "execution_count": 8,
   "id": "e16da359-ca86-4278-9e95-3525b9b0e8fa",
   "metadata": {},
   "outputs": [
    {
     "data": {
      "text/plain": [
       "MEDICATION RELATED                               9010\n",
       "NEW APPOINTMENT                                  8907\n",
       "REFILL                                           8347\n",
       "OTHERS                                           6253\n",
       "SHARING OF HEALTH RECORDS (FAX, E-MAIL, ETC.)    3018\n",
       "LAB RESULTS                                      2253\n",
       "PROVIDER                                         1677\n",
       "QUERIES FROM PHARMACY                            1464\n",
       "RESCHEDULING                                     1383\n",
       "SHARING OF LAB RECORDS (FAX, E-MAIL, ETC.)       1212\n",
       "PRIOR AUTHORIZATION                              1043\n",
       "SYMPTOMS                                         1021\n",
       "CHANGE OF PROVIDER                                811\n",
       "RUNNING LATE TO APPOINTMENT                       590\n",
       "CANCELLATION                                      564\n",
       "QUERY ON CURRENT APPOINTMENT                      559\n",
       "FOLLOW UP ON PREVIOUS REQUEST                     304\n",
       "CHANGE OF HOSPITAL                                127\n",
       "QUERIES FROM INSURANCE FIRM                        91\n",
       "CHANGE OF PHARMACY                                 47\n",
       "JUNK                                               18\n",
       "Name: categories, dtype: int64"
      ]
     },
     "execution_count": 8,
     "metadata": {},
     "output_type": "execute_result"
    }
   ],
   "source": [
    "df1.categories.value_counts()"
   ]
  },
  {
   "cell_type": "code",
   "execution_count": 9,
   "id": "a6e2ff03-ffa7-49da-8f1f-85cb063d4808",
   "metadata": {},
   "outputs": [
    {
     "data": {
      "text/plain": [
       "0                                                                                                                                                                                                                                                                                       please to verify instructions for drugname patients wi from pharmacy target reason for call details please to verify instructions for drugname patients will be picking up Rx timephrase clarified Rx with pharmacy lisa gilligan rn\n",
       "1                                                                                                                                                                                                                                                                                                                                                                                                                               lmovm for patients mother to and schd rov tracy dominguez am kellee currie pm rhonda fanning\n",
       "2                                           labtype and insurance approval other incoming name lpn clinical review for cigna reason for call details to inform that there is not enough information provided but patients can be approved for an at home labtype whitney will fax this will need to be filled out and sent if there are any questions please whintey at rna follow routed to wendy upchurch lisa mohamed rn auth obtained and routed to sleep schedulers tammy byrd fyi wendy upchurch clinical list changes\n",
       "3        clinical list changes medfusion secure electronic message subject genetic testing hello jennifer i just wanted to update you on where we stand as far as genetic testing is concerned we are working on building a standard order for the testing the testing will be administered at which is on the ground floor in the building next door to where you were seen today i will contact you once this order has been sent and you will be able to obtain a cost estimate from i look forward to speaking with y...\n",
       "4        wants to wean off medication work phone name dad other patients dad request to sw rn to discuss patients care now that timephrase pm lmtcb regarding dad question timephrase pm lmtcb x patient dad was asking if patients could be weaned off medicine since last seizure was months ago patients is currently taken lamictal mg tab in am tabs in pm he was hoping to try weaning the patients since she was out of school for the summer provider notified timephrase pm i would suggest we arrange for a sle...\n",
       "                                                                                                                                                                                                                                                                ...                                                                                                                                                                                                                                                         \n",
       "48694    fyi name spouse other spouse to ask what infomred her wmr wmc and rex she states she wanted to know becasue pt isnt doing well and she wanted to know which hospital she should take him to spouse states at this time she isnt home has a neighbor checking on him but when she get home she will check on patients again and based on that will have him go to wmc she states she will to update rna on condition if she has further concerns timephrase pm wife stated that patients did not go to the hosp c...\n",
       "48695    strattera name patient prescription refill strattera mg caps po qd please send to cvspharmacy north tryon street charlotte nc work pm lmov i asked that she try to get on a regular schedule with her strattera and i decreased her dose to mg to also help reduce any side effects please advise if Rx can be increased linda clark rn timephrase pm is she asking for it or did the box get checked wrong is she actually taking the mg on a regular basis md timephrase pm patients stated that she did ask f...\n",
       "48696    Rx request aricept mg rxrf medfusion secure electronic message received from the medfusion web portal tuesday subject Rx for patsy macon patsy macon is ready for either new prescription or refill of present one which is mg pharmacist recommends new prescription of mg rather than splitting mg please send new prescription to or us at she has only enough to last through timephrase night horace macon rna follow pharmacy has not received the script for the aricept mg tabs please re i clinical lis...\n",
       "48697    patients wants to know if she can be worked in with kmc patients declined t appointments patients wants to know if she can be worked in with kmc patients declined to see midlevel sending message per patients request please offer any np again or wait until st available already too many double books thanks denny cook rn medfusion secure electronic message subject appointment with doctor ms hopper doctor carnes does not have anything until i can add you to his cancellation list if you would lik...\n",
       "48698    sudden aphasia and trouble walking significant other other rcvd from patients partner jeffrey not on hipaa received verbal permission from patients to discuss patients health information w jeffrey he reports that patients is suffering from severe aphasia she is having trouble getting words out and having trouble spelling he also states that her neuropathy is bad and shes using a cane to get around patients sxs started timephrase when she woke up and are worsening patients has never had these...\n",
       "Name: converse, Length: 48699, dtype: object"
      ]
     },
     "execution_count": 9,
     "metadata": {},
     "output_type": "execute_result"
    }
   ],
   "source": [
    "df1.converse"
   ]
  },
  {
   "cell_type": "code",
   "execution_count": 10,
   "id": "b90ca93c-f31c-43cf-b061-543f918fcd15",
   "metadata": {},
   "outputs": [
    {
     "data": {
      "text/plain": [
       "'SUBJECTIVE:,  This 23-year-old white female presents with complaint of allergies.  She used to have allergies when she lived in Seattle but she thinks they are worse here.  In the past, she has tried Claritin, and Zyrtec.  Both worked for short time but then seemed to lose effectiveness.  She has used Allegra also.  She used that last summer and she began using it again two weeks ago.  It does not appear to be working very well.  She has used over-the-counter sprays but no prescription nasal sprays.  She does have asthma but doest not require daily medication for this and does not think it is flaring up.,MEDICATIONS: , Her only medication currently is Ortho Tri-Cyclen and the Allegra.,ALLERGIES: , She has no known medicine allergies.,OBJECTIVE:,Vitals:  Weight was 130 pounds and blood pressure 124/78.,HEENT:  Her throat was mildly erythematous without exudate.  Nasal mucosa was erythematous and swollen.  Only clear drainage was seen.  TMs were clear.,Neck:  Supple without adenopathy.,Lungs:  Clear.,ASSESSMENT:,  Allergic rhinitis.,PLAN:,1.  She will try Zyrtec instead of Allegra again.  Another option will be to use loratadine.  She does not think she has prescription coverage so that might be cheaper.,2.  Samples of Nasonex two sprays in each nostril given for three weeks.  A prescription was written as well.'"
      ]
     },
     "metadata": {},
     "output_type": "display_data"
    }
   ],
   "source": [
    "display(df['transcription'].head().iloc[0])"
   ]
  },
  {
   "cell_type": "code",
   "execution_count": 11,
   "id": "86910b85-d4f8-4830-a415-19a0c25dca8b",
   "metadata": {},
   "outputs": [
    {
     "data": {
      "text/plain": [
       "'PAST MEDICAL HISTORY:, He has difficulty climbing stairs, difficulty with airline seats, tying shoes, used to public seating, and lifting objects off the floor.  He exercises three times a week at home and does cardio.  He has difficulty walking two blocks or five flights of stairs.  Difficulty with snoring.  He has muscle and joint pains including knee pain, back pain, foot and ankle pain, and swelling.  He has gastroesophageal reflux disease.,PAST SURGICAL HISTORY:, Includes reconstructive surgery on his right hand 13 years ago.  ,SOCIAL HISTORY:, He is currently single.  He has about ten drinks a year.  He had smoked significantly up until several months ago.  He now smokes less than three cigarettes a day.,FAMILY HISTORY:, Heart disease in both grandfathers, grandmother with stroke, and a grandmother with diabetes.  Denies obesity and hypertension in other family members.,CURRENT MEDICATIONS:, None.,ALLERGIES:,  He is allergic to Penicillin.,MISCELLANEOUS/EATING HISTORY:, He has been going to support groups for seven months with Lynn Holmberg in Greenwich and he is from Eastchester, New York and he feels that we are the appropriate program.  He had a poor experience with the Greenwich program.  Eating history, he is not an emotional eater.  Does not like sweets.  He likes big portions and carbohydrates.  He likes chicken and not steak.  He currently weighs 312 pounds.  Ideal body weight would be 170 pounds.  He is 142 pounds overweight.  If ,he lost 60% of his excess body weight that would be 84 pounds and he should weigh about 228.,REVIEW OF SYSTEMS: ,Negative for head, neck, heart, lungs, GI, GU, orthopedic, and skin.  Specifically denies chest pain, heart attack, coronary artery disease, congestive heart failure, arrhythmia, atrial fibrillation, pacemaker, high cholesterol, pulmonary embolism, high blood pressure, CVA, venous insufficiency, thrombophlebitis, asthma, shortness of breath, COPD, emphysema, sleep apnea, diabetes, leg and foot swelling, osteoarthritis, rheumatoid arthritis, hiatal hernia, peptic ulcer disease, gallstones, infected gallbladder, pancreatitis, fatty liver, hepatitis, hemorrhoids, rectal bleeding, polyps, incontinence of stool, urinary stress incontinence, or cancer.  Denies cellulitis, pseudotumor cerebri, meningitis, or encephalitis.,PHYSICAL EXAMINATION:, He is alert and oriented x 3.  Cranial nerves II-XII are intact.  Afebrile.  Vital Signs are stable.'"
      ]
     },
     "metadata": {},
     "output_type": "display_data"
    }
   ],
   "source": [
    "display(df['transcription'].head().iloc[1])"
   ]
  },
  {
   "cell_type": "code",
   "execution_count": 12,
   "id": "8de774e9-ead1-4e40-9987-40be695f46aa",
   "metadata": {},
   "outputs": [
    {
     "data": {
      "text/plain": [
       "'HISTORY OF PRESENT ILLNESS: , I have seen ABC today.  He is a very pleasant gentleman who is 42 years old, 344 pounds.  He is 5\\'9\".  He has a BMI of 51.  He has been overweight for ten years since the age of 33, at his highest he was 358 pounds, at his lowest 260.  He is pursuing surgical attempts of weight loss to feel good, get healthy, and begin to exercise again.  He wants to be able to exercise and play volleyball.  Physically, he is sluggish.  He gets tired quickly.  He does not go out often.  When he loses weight he always regains it and he gains back more than he lost.  His biggest weight loss is 25 pounds and it was three months before he gained it back.  He did six months of not drinking alcohol and not taking in many calories.  He has been on multiple commercial weight loss programs including Slim Fast for one month one year ago and Atkin\\'s Diet for one month two years ago.,PAST MEDICAL HISTORY: , He has difficulty climbing stairs, difficulty with airline seats, tying shoes, used to public seating, difficulty walking, high cholesterol, and high blood pressure.  He has asthma and difficulty walking two blocks or going eight to ten steps.  He has sleep apnea and snoring.  He is a diabetic, on medication.  He has joint pain, knee pain, back pain, foot and ankle pain, leg and foot swelling.  He has hemorrhoids.,PAST SURGICAL HISTORY: , Includes orthopedic or knee surgery.,SOCIAL HISTORY: , He is currently single.  He drinks alcohol ten to twelve drinks a week, but does not drink five days a week and then will binge drink.  He smokes one and a half pack a day for 15 years, but he has recently stopped smoking for the past two weeks.,FAMILY HISTORY: , Obesity, heart disease, and diabetes.  Family history is negative for hypertension and stroke.,CURRENT MEDICATIONS:,  Include Diovan, Crestor, and Tricor.,MISCELLANEOUS/EATING HISTORY:  ,He says a couple of friends of his have had heart attacks and have had died.  He used to drink everyday, but stopped two years ago.  He now only drinks on weekends.  He is on his second week of Chantix, which is a medication to come off smoking completely.  Eating, he eats bad food.  He is single.  He eats things like bacon, eggs, and cheese, cheeseburgers, fast food, eats four times a day, seven in the morning, at noon, 9 p.m., and 2 a.m.  He currently weighs 344 pounds and 5\\'9\".  His ideal body weight is 160 pounds.  He is 184 pounds overweight.  If he lost 70% of his excess body weight that would be 129 pounds and that would get him down to 215.,REVIEW OF SYSTEMS: , Negative for head, neck, heart, lungs, GI, GU, orthopedic, or skin.  He also is positive for gout.  He denies chest pain, heart attack, coronary artery disease, congestive heart failure, arrhythmia, atrial fibrillation, pacemaker, pulmonary embolism, or CVA.  He denies venous insufficiency or thrombophlebitis.  Denies shortness of breath, COPD, or emphysema.  Denies thyroid problems, hip pain, osteoarthritis, rheumatoid arthritis, GERD, hiatal hernia, peptic ulcer disease, gallstones, infected gallbladder, pancreatitis, fatty liver, hepatitis, rectal bleeding, polyps, incontinence of stool, urinary stress incontinence, or cancer.  He denies cellulitis, pseudotumor cerebri, meningitis, or encephalitis.,PHYSICAL EXAMINATION:  ,He is alert and oriented x 3.  Cranial nerves II-XII are intact.  Neck is soft and supple.  Lungs:  He has positive wheezing bilaterally.  Heart is regular rhythm and rate.  His abdomen is soft.  Extremities:  He has 1+ pitting edema.,IMPRESSION/PLAN:,  I have explained to him the risks and potential complications of laparoscopic gastric bypass in detail and these include bleeding, infection, deep venous thrombosis, pulmonary embolism, leakage from the gastrojejuno-anastomosis, jejunojejuno-anastomosis, and possible bowel obstruction among other potential complications.  He understands.  He wants to proceed with workup and evaluation for laparoscopic Roux-en-Y gastric bypass.  He will need to get a letter of approval from Dr. XYZ.  He will need to see a nutritionist and mental health worker.  He will need an upper endoscopy by either Dr. XYZ.  He will need to go to Dr. XYZ as he previously had a sleep study.  We will need another sleep study.  He will need H. pylori testing, thyroid function tests, LFTs, glycosylated hemoglobin, and fasting blood sugar.  After this is performed, we will submit him for insurance approval.'"
      ]
     },
     "metadata": {},
     "output_type": "display_data"
    }
   ],
   "source": [
    "display(df['transcription'].head().iloc[2])"
   ]
  },
  {
   "cell_type": "code",
   "execution_count": 13,
   "id": "00fd0080-77c7-4f62-bff2-368f9f0b4fce",
   "metadata": {},
   "outputs": [],
   "source": [
    "import re\n",
    "import numpy as np\n",
    "def get_tags(raw_string):\n",
    "    try:\n",
    "        res_list = []\n",
    "        res_list = [(i.strip()) for i in re.findall('[0-9-A-Z/ :]*', raw_string) if (len(i.strip()) > 3 and (i.strip()[-1] == ':')) ]\n",
    "        return res_list\n",
    "    except:\n",
    "        return np.nan\n",
    "\n",
    "# ini_str = 'PAST MEDICAL HISTORY:, He has difficulty climbing stairs, difficulty with airline seats, tying shoes, used to public seating, and lifting objects off the floor.  He exercises three times a week at home and does cardio.  He has difficulty walking two blocks or five flights of stairs.  Difficulty with snoring.  He has muscle and joint pains including knee pain, back pain, foot and ankle pain, and swelling.  He has gastroesophageal reflux disease.,PAST SURGICAL HISTORY:, Includes reconstructive surgery on his right hand 13 years ago.  ,SOCIAL HISTORY:, He is currently single.  He has about ten drinks a year.  He had smoked significantly up until several months ago.  He now smokes less than three cigarettes a day.,FAMILY HISTORY:, Heart disease in both grandfathers, grandmother with stroke, and a grandmother with diabetes.  Denies obesity and hypertension in other family members.,CURRENT MEDICATIONS:, None.,ALLERGIES:,  He is allergic to Penicillin.,MISCELLANEOUS/EATING HISTORY:, He has been going to support groups for seven months with Lynn Holmberg in Greenwich and he is from Eastchester, New York and he feels that we are the appropriate program.  He had a poor experience with the Greenwich program.  Eating history, he is not an emotional eater.  Does not like sweets.  He likes big portions and carbohydrates.  He likes chicken and not steak.  He currently weighs 312 pounds.  Ideal body weight would be 170 pounds.  He is 142 pounds overweight.  If ,he lost 60% of his excess body weight that would be 84 pounds and he should weigh about 228.,REVIEW OF SYSTEMS: ,Negative for head, neck, heart, lungs, GI, GU, orthopedic, and skin.  Specifically denies chest pain, heart attack, coronary artery disease, congestive heart failure, arrhythmia, atrial fibrillation, pacemaker, high cholesterol, pulmonary embolism, high blood pressure, CVA, venous insufficiency, thrombophlebitis, asthma, shortness of breath, COPD, emphysema, sleep apnea, diabetes, leg and foot swelling, osteoarthritis, rheumatoid arthritis, hiatal hernia, peptic ulcer disease, gallstones, infected gallbladder, pancreatitis, fatty liver, hepatitis, hemorrhoids, rectal bleeding, polyps, incontinence of stool, urinary stress incontinence, or cancer.  Denies cellulitis, pseudotumor cerebri, meningitis, or encephalitis.,PHYSICAL EXAMINATION:, He is alert and oriented x 3.  Cranial nerves II-XII are intact.  Afebrile.  Vital Signs are stable.'\n",
    " \n",
    "# # Printing Initial string\n",
    "# print (\"Initial String\", ini_str)\n",
    " \n",
    "# res_list = []\n",
    "# res_list = [i for i in re.findall('[A-Z- ]*', ini_str) if len(i.strip()) > 3]\n",
    "\n",
    "# filter_string = ''\n",
    "# for i in res_list:\n",
    "#     filter_string += ('(' + i + ':,)| ')\n",
    "# filter_string = filter_string[:-2]\n",
    "    \n",
    "# print(filter_string)\n",
    "# for i in re.split(filter_string, ini_str):\n",
    "#     print(i)"
   ]
  },
  {
   "cell_type": "code",
   "execution_count": 14,
   "id": "9377f00d-3741-4431-82ef-175cef0b6e8d",
   "metadata": {},
   "outputs": [],
   "source": [
    "from tqdm.notebook import tqdm\n",
    "tqdm.pandas()"
   ]
  },
  {
   "cell_type": "code",
   "execution_count": 15,
   "id": "41513f2d-3440-49d1-b76c-286d4b794268",
   "metadata": {},
   "outputs": [
    {
     "data": {
      "application/vnd.jupyter.widget-view+json": {
       "model_id": "cf5876d6f9ad4734b491504580ebd81b",
       "version_major": 2,
       "version_minor": 0
      },
      "text/plain": [
       "  0%|          | 0/4999 [00:00<?, ?it/s]"
      ]
     },
     "metadata": {},
     "output_type": "display_data"
    }
   ],
   "source": [
    "key_words = []\n",
    "key_words.append(df.transcription.progress_apply(get_tags))"
   ]
  },
  {
   "cell_type": "code",
   "execution_count": 56,
   "id": "7f062966-2fb1-41f7-a8d1-f798c6de8f9a",
   "metadata": {},
   "outputs": [],
   "source": [
    "# key_words[0][1]"
   ]
  },
  {
   "cell_type": "code",
   "execution_count": 55,
   "id": "19b6cf77-e03b-4c9d-a595-988084bc9637",
   "metadata": {},
   "outputs": [],
   "source": [
    "# df.transcription.iloc[2]"
   ]
  },
  {
   "cell_type": "code",
   "execution_count": 18,
   "id": "9c2c420a-2630-4a38-bb1f-b83beb454f0d",
   "metadata": {},
   "outputs": [
    {
     "data": {
      "text/plain": [
       "'(2-D M-MODE:) | (DOPPLER:)'"
      ]
     },
     "execution_count": 18,
     "metadata": {},
     "output_type": "execute_result"
    }
   ],
   "source": [
    "filter_string = ''\n",
    "for i in key_words[0][3]:\n",
    "    filter_string += ('(' + i + ') | ')\n",
    "filter_string = filter_string[:-3]\n",
    "filter_string"
   ]
  },
  {
   "cell_type": "code",
   "execution_count": 19,
   "id": "a557910a-270f-4b3d-99bf-b8317c71a856",
   "metadata": {},
   "outputs": [
    {
     "name": "stdout",
     "output_type": "stream",
     "text": [
      "\n",
      "2-D M-MODE:\n",
      "None\n",
      ", ,1.  Left atrial enlargement with left atrial diameter of 4.7 cm.,2.  Normal size right and left ventricle.,3.  Normal LV systolic function with left ventricular ejection fraction of 51%.,4.  Normal LV diastolic function.,5.  No pericardial effusion.,6.  Normal morphology of aortic valve, mitral valve, tricuspid valve, and pulmonary valve.,7.  PA systolic pressure is 36 mmHg.,DOPPLER: , ,1.  Mild mitral and tricuspid regurgitation.,2.  Trace aortic and pulmonary regurgitation.\n"
     ]
    }
   ],
   "source": [
    "for i in re.split(filter_string, df.transcription.iloc[3]):\n",
    "    print(i)"
   ]
  },
  {
   "cell_type": "code",
   "execution_count": 40,
   "id": "13c34c92-ea4d-49d5-9eb1-434d6632b9e5",
   "metadata": {},
   "outputs": [],
   "source": [
    "def get_processed_text(string, keywords):\n",
    "\n",
    "    string = string.replace('Dr.', 'Dr')\n",
    "    string = string.replace('dr.', 'Dr')\n",
    "    \n",
    "    if(len(keywords) == 0):\n",
    "        col_names = ['Medical Transcript']\n",
    "        res = [sent.strip(',').strip() for sent in string.split('. ') if(len(sent.strip()) > 0)]\n",
    "        col_names.append(res)\n",
    "        return col_names\n",
    "        \n",
    "    table = []\n",
    "    col_names = []\n",
    "    \n",
    "    result = []\n",
    "    # try:\n",
    "    for i in range(len(keywords) - 1):\n",
    "        # print(keywords[i + 1], string)\n",
    "        start = string.index(keywords[i])\n",
    "        end_i = (string.index(keywords[i]) + len(keywords[i]))\n",
    "        end = string.index(keywords[i+1])\n",
    "        temp = string[end_i:end]\n",
    "        temp = re.sub(r\"^[\\s,]+\", \"\", temp)\n",
    "        temp = re.sub(r\"(^\\s+)|(\\s*,?\\s*$)\", \"\", temp)\n",
    "        # res = [re.sub(r'[ ]+', ' ', sent.strip()).strip(',').strip() for sent in temp.split('. ') if(len(sent.strip()) > 5)]\n",
    "        col_names.append(keywords[i].strip()[:-1])\n",
    "        table.append(temp)\n",
    "\n",
    "    temp = string[(string.index(keywords[-1]) + len(keywords[-1])):]\n",
    "    temp = re.sub(r\"^[\\s,]+\", \"\", temp)\n",
    "    temp = re.sub(r\"(^\\s+)|(\\s*,?\\s*$)\", \"\", temp)\n",
    "    res = [sent.strip(',').strip() for sent in temp.split('. ') if(len(sent.strip()) > 0)]\n",
    "    col_names.append(keywords[-1].strip()[:-1])\n",
    "    table.append(temp)\n",
    "\n",
    "    return col_names, table"
   ]
  },
  {
   "cell_type": "code",
   "execution_count": 53,
   "id": "94fbfcec-c8e1-4f48-b86c-4ab0b832f3e0",
   "metadata": {},
   "outputs": [
    {
     "data": {
      "text/html": [
       "<div>\n",
       "<style scoped>\n",
       "    .dataframe tbody tr th:only-of-type {\n",
       "        vertical-align: middle;\n",
       "    }\n",
       "\n",
       "    .dataframe tbody tr th {\n",
       "        vertical-align: top;\n",
       "    }\n",
       "\n",
       "    .dataframe thead th {\n",
       "        text-align: right;\n",
       "    }\n",
       "</style>\n",
       "<table border=\"1\" class=\"dataframe\">\n",
       "  <thead>\n",
       "    <tr style=\"text-align: right;\">\n",
       "      <th></th>\n",
       "      <th>Subject of the report</th>\n",
       "      <th>Notes</th>\n",
       "    </tr>\n",
       "  </thead>\n",
       "  <tbody>\n",
       "    <tr>\n",
       "      <th>0</th>\n",
       "      <td>CHIEF COMPLAINT</td>\n",
       "      <td>Well-child check sports physical.</td>\n",
       "    </tr>\n",
       "    <tr>\n",
       "      <th>1</th>\n",
       "      <td>HISTORY OF PRESENT ILLNESS</td>\n",
       "      <td>This is a 14-1/2-year-old white male known to have asthma and allergic rhinitis.  He is here with his mother for a well-child check.  Mother states he has been doing well with regard to his asthma and allergies.  He is currently on immunotherapy and also takes Advair 500/50 mg, Flonase, Claritin and albuterol inhaler as needed.  His last exacerbation was 04/04.  He has been very competitive in his sports this spring and summer and has had no issues since that time.  He eats well from all foo...</td>\n",
       "    </tr>\n",
       "    <tr>\n",
       "      <th>2</th>\n",
       "      <td>CURRENT MEDICATIONS</td>\n",
       "      <td>As above.</td>\n",
       "    </tr>\n",
       "    <tr>\n",
       "      <th>3</th>\n",
       "      <td>ALLERGIES</td>\n",
       "      <td>He has no known medication allergies.</td>\n",
       "    </tr>\n",
       "    <tr>\n",
       "      <th>4</th>\n",
       "      <td>REVIEW OF SYSTEMS</td>\n",
       "      <td>Constitutional:  He has had no fever.,HEENT:  No vision problems.  No eye redness, itching or drainage.  No earache.  No sore throat or congestion.,Cardiovascular:  No chest pain.,Respiratory:  No cough, shortness of breath or wheezing.,GI:  No stomachache, vomiting or diarrhea.,GU:  No dysuria, urgency or frequency.,Hematological:  No excessive bruising or bleeding.  He did have a minor concussion in 06/04 while playing baseball.</td>\n",
       "    </tr>\n",
       "    <tr>\n",
       "      <th>5</th>\n",
       "      <td>PHYSICAL EXAMINATION</td>\n",
       "      <td>General:  He is alert and in no distress.,Vital signs:  He is afebrile.  His weight is at the 75th percentile.  His height is about the 80th percentile.,HEENT:  Normocephalic.  Atraumatic.  Pupils are equal, round and reactive to light.  TMs are clear bilaterally.  Nares patent.  Nasal mucosa is mildly edematous and pink.  No secretions.  Oropharynx is clear.,Neck:  Supple.,Lungs:  Good air exchange bilaterally.,Heart:  Regular.  No murmur.,Abdomen:  Soft.  Positive bowel sounds.  No masses....</td>\n",
       "    </tr>\n",
       "    <tr>\n",
       "      <th>6</th>\n",
       "      <td>ASSESSMENT</td>\n",
       "      <td>1.  Well child.,2.  Asthma with good control.,3.  Allergic rhinitis, stable.</td>\n",
       "    </tr>\n",
       "    <tr>\n",
       "      <th>7</th>\n",
       "      <td>PLAN</td>\n",
       "      <td>Hearing and vision assessment today are both within normal limits.  Will check an H&amp;H today.  Continue all medications as directed.  Prescription written for albuterol inhaler, #2, one for home and one for school to be used for rescue.  Anticipatory guidance for age.  He is to return to the office in one year or sooner if needed.</td>\n",
       "    </tr>\n",
       "  </tbody>\n",
       "</table>\n",
       "</div>"
      ],
      "text/plain": [
       "        Subject of the report  \\\n",
       "0             CHIEF COMPLAINT   \n",
       "1  HISTORY OF PRESENT ILLNESS   \n",
       "2         CURRENT MEDICATIONS   \n",
       "3                   ALLERGIES   \n",
       "4           REVIEW OF SYSTEMS   \n",
       "5        PHYSICAL EXAMINATION   \n",
       "6                  ASSESSMENT   \n",
       "7                        PLAN   \n",
       "\n",
       "                                                                                                                                                                                                                                                                                                                                                                                                                                                                                                                 Notes  \n",
       "0                                                                                                                                                                                                                                                                                                                                                                                                                                                                                    Well-child check sports physical.  \n",
       "1  This is a 14-1/2-year-old white male known to have asthma and allergic rhinitis.  He is here with his mother for a well-child check.  Mother states he has been doing well with regard to his asthma and allergies.  He is currently on immunotherapy and also takes Advair 500/50 mg, Flonase, Claritin and albuterol inhaler as needed.  His last exacerbation was 04/04.  He has been very competitive in his sports this spring and summer and has had no issues since that time.  He eats well from all foo...  \n",
       "2                                                                                                                                                                                                                                                                                                                                                                                                                                                                                                            As above.  \n",
       "3                                                                                                                                                                                                                                                                                                                                                                                                                                                                                He has no known medication allergies.  \n",
       "4                                                                   Constitutional:  He has had no fever.,HEENT:  No vision problems.  No eye redness, itching or drainage.  No earache.  No sore throat or congestion.,Cardiovascular:  No chest pain.,Respiratory:  No cough, shortness of breath or wheezing.,GI:  No stomachache, vomiting or diarrhea.,GU:  No dysuria, urgency or frequency.,Hematological:  No excessive bruising or bleeding.  He did have a minor concussion in 06/04 while playing baseball.  \n",
       "5  General:  He is alert and in no distress.,Vital signs:  He is afebrile.  His weight is at the 75th percentile.  His height is about the 80th percentile.,HEENT:  Normocephalic.  Atraumatic.  Pupils are equal, round and reactive to light.  TMs are clear bilaterally.  Nares patent.  Nasal mucosa is mildly edematous and pink.  No secretions.  Oropharynx is clear.,Neck:  Supple.,Lungs:  Good air exchange bilaterally.,Heart:  Regular.  No murmur.,Abdomen:  Soft.  Positive bowel sounds.  No masses....  \n",
       "6                                                                                                                                                                                                                                                                                                                                                                                                                                         1.  Well child.,2.  Asthma with good control.,3.  Allergic rhinitis, stable.  \n",
       "7                                                                                                                                                                          Hearing and vision assessment today are both within normal limits.  Will check an H&H today.  Continue all medications as directed.  Prescription written for albuterol inhaler, #2, one for home and one for school to be used for rescue.  Anticipatory guidance for age.  He is to return to the office in one year or sooner if needed.  "
      ]
     },
     "execution_count": 53,
     "metadata": {},
     "output_type": "execute_result"
    }
   ],
   "source": [
    "def get_table(string):\n",
    "    keywords = get_tags(string)\n",
    "    col, values = get_processed_text(string, keywords)\n",
    "    \n",
    "    return pd.DataFrame([col, values]).T.rename(columns = {0 : 'Subject of the report', 1 : 'Notes'})\n",
    "    \n",
    "get_table(df.transcription.iloc[1900])"
   ]
  },
  {
   "cell_type": "code",
   "execution_count": 54,
   "id": "05716fbe-7666-4152-9f8b-e853285cb666",
   "metadata": {},
   "outputs": [],
   "source": [
    "# table = []\n",
    "# max_col_lenght = 0\n",
    "# for j in range(5):\n",
    "#     row = [j]\n",
    "#     string = df.transcription.iloc[j]\n",
    "#     keywords = key_words[0][j]\n",
    "    \n",
    "#     for i in get_processed_text(string, keywords):\n",
    "#         row.append(i)\n",
    "#     table.append(row)\n",
    "#     col_lenght = len(row)\n",
    "    \n",
    "#     if(col_lenght > max_col_lenght):\n",
    "#         max_col_lenght = col_lenght\n",
    "\n",
    "# print(max_col_lenght)\n",
    "# pd.DataFrame(table)"
   ]
  },
  {
   "cell_type": "code",
   "execution_count": null,
   "id": "8cf75191-079a-418c-ad3e-44fb0e86aa01",
   "metadata": {},
   "outputs": [],
   "source": []
  }
 ],
 "metadata": {
  "environment": {
   "kernel": "python3",
   "name": "pytorch-gpu.1-13.m107",
   "type": "gcloud",
   "uri": "gcr.io/deeplearning-platform-release/pytorch-gpu.1-13:m107"
  },
  "kernelspec": {
   "display_name": "Python 3",
   "language": "python",
   "name": "python3"
  },
  "language_info": {
   "codemirror_mode": {
    "name": "ipython",
    "version": 3
   },
   "file_extension": ".py",
   "mimetype": "text/x-python",
   "name": "python",
   "nbconvert_exporter": "python",
   "pygments_lexer": "ipython3",
   "version": "3.7.12"
  }
 },
 "nbformat": 4,
 "nbformat_minor": 5
}
